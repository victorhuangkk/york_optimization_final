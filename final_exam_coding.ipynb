{
 "cells": [
  {
   "cell_type": "markdown",
   "metadata": {},
   "source": [
    "# Problem 15"
   ]
  },
  {
   "cell_type": "code",
   "execution_count": 2,
   "metadata": {},
   "outputs": [],
   "source": [
    "from scipy.optimize import minimize\n",
    "import numpy as np\n",
    "\n",
    "x0 = np.array([-0.5, 1])\n",
    "fun = lambda x: -12*x[1] + 4*x[0]**2 + 4*x[1]**2 - 4*x[0]*x[1]\n",
    "\n",
    "res = minimize(fun, x0, method='CG', tol=1e-6)"
   ]
  },
  {
   "cell_type": "code",
   "execution_count": 53,
   "metadata": {},
   "outputs": [
    {
     "data": {
      "text/plain": [
       "-5.0"
      ]
     },
     "execution_count": 53,
     "metadata": {},
     "output_type": "execute_result"
    }
   ],
   "source": [
    "fun([-0.5, 1])"
   ]
  },
  {
   "cell_type": "code",
   "execution_count": 54,
   "metadata": {},
   "outputs": [
    {
     "data": {
      "text/plain": [
       "9.0"
      ]
     },
     "execution_count": 54,
     "metadata": {},
     "output_type": "execute_result"
    }
   ],
   "source": [
    "fun([1.5, 0])"
   ]
  },
  {
   "cell_type": "code",
   "execution_count": 55,
   "metadata": {},
   "outputs": [
    {
     "data": {
      "text/plain": [
       "-5.0"
      ]
     },
     "execution_count": 55,
     "metadata": {},
     "output_type": "execute_result"
    }
   ],
   "source": [
    "fun([2.5, 3])"
   ]
  },
  {
   "cell_type": "markdown",
   "metadata": {},
   "source": [
    "## Part 3"
   ]
  },
  {
   "cell_type": "code",
   "execution_count": 47,
   "metadata": {},
   "outputs": [],
   "source": [
    "import numpy as np\n",
    "import matplotlib.pyplot as plt\n",
    "from mpl_toolkits import mplot3d\n",
    "x1 = np.linspace(-10, 10, 1000)\n",
    "x2 = np.linspace(-10, 10, 1000)\n",
    " \n",
    "X,Y = np.meshgrid(x1, x2)\n",
    "Z = -12*X2 + 4*X2**2 + 4*X2**2 - 4*X1*X2\n",
    "\n",
    "fig = plt.figure(figsize = (16,8))\n",
    "ax = fig.add_subplot(1, 2, 2)\n",
    "# ax = plt.axes()\n",
    "#ax.plot_surface(X1, X2, Y,\n",
    "#                cmap='binary')\n",
    "ax.contour(X,Y,Z, 50, cmap = 'jet')\n",
    "\n",
    "iter_x = [-0.5,1.5,2.5]\n",
    "iter_y = [1, 0, 3]\n",
    "iter_z = [10,20,30]\n",
    "ax.plot(iter_x, iter_y, color = 'r', marker = '*', alpha = .4)"
   ]
  },
  {
   "cell_type": "code",
   "execution_count": 13,
   "metadata": {},
   "outputs": [
    {
     "data": {
      "text/plain": [
       "1000"
      ]
     },
     "execution_count": 13,
     "metadata": {},
     "output_type": "execute_result"
    }
   ],
   "source": []
  },
  {
   "cell_type": "code",
   "execution_count": null,
   "metadata": {},
   "outputs": [],
   "source": []
  }
 ],
 "metadata": {
  "kernelspec": {
   "display_name": "optimization_hw3",
   "language": "python",
   "name": "optimization_hw3"
  },
  "language_info": {
   "codemirror_mode": {
    "name": "ipython",
    "version": 3
   },
   "file_extension": ".py",
   "mimetype": "text/x-python",
   "name": "python",
   "nbconvert_exporter": "python",
   "pygments_lexer": "ipython3",
   "version": "3.8.5"
  }
 },
 "nbformat": 4,
 "nbformat_minor": 4
}
